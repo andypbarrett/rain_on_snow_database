{
 "cells": [
  {
   "cell_type": "markdown",
   "id": "a27ca529-49f5-4ab0-98f1-b27f92200178",
   "metadata": {},
   "source": [
    "# Make Arctic Land Mask from GSHHS Coastline Data"
   ]
  },
  {
   "cell_type": "code",
   "execution_count": 1,
   "id": "929f80b5-ac96-4bb3-95e9-19219327c150",
   "metadata": {},
   "outputs": [],
   "source": [
    "from pathlib import Path\n",
    "import gzip\n",
    "import re\n",
    "\n",
    "import numpy as np\n",
    "import xarray as xr\n",
    "import rioxarray\n",
    "from pyproj import CRS, Transformer\n",
    "from affine import Affine\n",
    "from shapely.geometry import MultiPolygon, MultiPoint, Point\n",
    "\n",
    "import matplotlib.pyplot as plt\n",
    "from matplotlib.colors import BoundaryNorm, ListedColormap\n",
    "from matplotlib.cm import ScalarMappable\n",
    "import cartopy.crs as ccrs\n",
    "import cartopy.feature as cfeature\n",
    "\n",
    "from utils import latlon_from_file, true_scale_lat_to_scale_factor\n",
    "\n",
    "from pyproj.crs import ProjectedCRS\n",
    "from pyproj.crs.coordinate_operation import StereographicConversion\n",
    "\n",
    "from ros_database.ims_snow.ims_crs import Grid"
   ]
  },
  {
   "cell_type": "markdown",
   "id": "e31be55a-c429-474d-aa5c-7716b2bc9384",
   "metadata": {},
   "source": [
    "## Tasks\n",
    "1. Define area of interest to include all stations in database\n",
    "2. "
   ]
  },
  {
   "cell_type": "code",
   "execution_count": 2,
   "id": "23de4d33-237b-4522-8b7d-e82f3a7c0cff",
   "metadata": {},
   "outputs": [],
   "source": [
    "coastline = cfeature.GSHHSFeature()"
   ]
  },
  {
   "cell_type": "code",
   "execution_count": 3,
   "id": "0b4ad8c9-4240-4a8c-a246-61b0ddcb6ae7",
   "metadata": {},
   "outputs": [
    {
     "name": "stdout",
     "output_type": "stream",
     "text": [
      "/home/apbarret/src/rain_on_snow_database/data/test_data/imslat_4km.bin.gz /home/apbarret/src/rain_on_snow_database/data/test_data/imslon_4km.bin.gz\n"
     ]
    }
   ],
   "source": [
    "stored_latitude, stored_longitude = latlon_from_file()"
   ]
  },
  {
   "cell_type": "markdown",
   "id": "3daeaad2-f1c9-4fd9-910a-3f222dba14e2",
   "metadata": {},
   "source": [
    "## Define CRS and grid"
   ]
  },
  {
   "cell_type": "code",
   "execution_count": 29,
   "id": "f2ae66a2-aba4-43c4-8ed8-2729d7e6d340",
   "metadata": {},
   "outputs": [],
   "source": [
    "ims_nps = StereographicConversion(latitude_natural_origin=90., longitude_natural_origin=-80.,\n",
    "                                  scale_factor_natural_origin=true_scale_lat_to_scale_factor(60))\n",
    "ims_crs = ProjectedCRS(ims_nps)"
   ]
  },
  {
   "cell_type": "code",
   "execution_count": 30,
   "id": "6dd57982-92ad-4ee4-9e46-eb47ef8ffa2e",
   "metadata": {},
   "outputs": [
    {
     "data": {
      "text/plain": [
       "<Projected CRS: {\"$schema\": \"https://proj.org/schemas/v0.2/projjso ...>\n",
       "Name: undefined\n",
       "Axis Info [cartesian]:\n",
       "- E[east]: Easting (metre)\n",
       "- N[north]: Northing (metre)\n",
       "Area of Use:\n",
       "- undefined\n",
       "Coordinate Operation:\n",
       "- name: unknown\n",
       "- method: Stereographic\n",
       "Datum: World Geodetic System 1984 ensemble\n",
       "- Ellipsoid: WGS 84\n",
       "- Prime Meridian: Greenwich"
      ]
     },
     "execution_count": 30,
     "metadata": {},
     "output_type": "execute_result"
    }
   ],
   "source": [
    "ims_crs"
   ]
  },
  {
   "cell_type": "code",
   "execution_count": 26,
   "id": "c1312e4e-ce1e-4879-9167-134becc0b8af",
   "metadata": {},
   "outputs": [],
   "source": [
    "IMS4kmGrid = Grid(nrow=6144,\n",
    "                  ncol=6144,\n",
    "                  grid_cell_width=4000,\n",
    "                  grid_cell_height=4000,\n",
    "                  grid_origin_x=-12288000.0,\n",
    "                  grid_origin_y=-12288000.0,\n",
    "                  crs=ims_crs)"
   ]
  },
  {
   "cell_type": "code",
   "execution_count": 27,
   "id": "84a6dd62-8f2c-42d8-94b8-0d64554ee120",
   "metadata": {},
   "outputs": [
    {
     "data": {
      "text/plain": [
       "(-12288000.0, -12288000.0, 12288000.0, 12288000.0)"
      ]
     },
     "execution_count": 27,
     "metadata": {},
     "output_type": "execute_result"
    }
   ],
   "source": [
    "IMS4kmGrid.bounds()"
   ]
  },
  {
   "cell_type": "code",
   "execution_count": 28,
   "id": "7b2c8aba-0b3d-4f07-a841-eae1516ab17c",
   "metadata": {},
   "outputs": [
    {
     "data": {
      "text/plain": [
       "Affine(4000.0, 0.0, -12288000.0,\n",
       "       0.0, 4000.0, -12288000.0)"
      ]
     },
     "execution_count": 28,
     "metadata": {},
     "output_type": "execute_result"
    }
   ],
   "source": [
    "IMS4kmGrid.transform"
   ]
  },
  {
   "cell_type": "code",
   "execution_count": 21,
   "id": "67103abe-1bf2-48db-8f68-455c398cde90",
   "metadata": {},
   "outputs": [],
   "source": [
    "x, y = IMS4kmGrid.xy_coords()"
   ]
  },
  {
   "cell_type": "code",
   "execution_count": 23,
   "id": "bdfe16eb-133c-4049-8a7a-beb8315dc37a",
   "metadata": {},
   "outputs": [],
   "source": [
    "def get_latlon():\n",
    "    x2d, y2d = np.meshgrid(*IMS4kmGrid.xy_coords())\n",
    "    transformer = Transformer.from_crs(IMS4kmGrid.crs, 4326, always_xy=True)\n",
    "    return transformer.transform(x2d, y2d)"
   ]
  },
  {
   "cell_type": "code",
   "execution_count": 24,
   "id": "652af45c-68ef-4f38-adda-8130b6644aa6",
   "metadata": {},
   "outputs": [
    {
     "name": "stdout",
     "output_type": "stream",
     "text": [
      "CPU times: user 10.4 s, sys: 93.2 ms, total: 10.5 s\n",
      "Wall time: 10.5 s\n"
     ]
    }
   ],
   "source": [
    "%%time\n",
    "lon, lat = get_latlon()"
   ]
  },
  {
   "cell_type": "code",
   "execution_count": null,
   "id": "4b673045-ff50-4ff3-ad69-23ea2fdc4653",
   "metadata": {},
   "outputs": [],
   "source": [
    "every=200\n",
    "proj = ccrs.Stereographic(central_latitude=90., \n",
    "                          central_longitude=-80., \n",
    "                          true_scale_latitude=60.)\n",
    "fig = plt.figure(figsize=(7,7))\n",
    "ax = fig.add_subplot(projection=proj)\n",
    "ax.coastlines()\n",
    "\n",
    "ax.scatter(lon[::every,::every], lat[::every,::every], \n",
    "           marker='+', transform=ccrs.PlateCarree())\n",
    "\n",
    "\n",
    "ax.scatter(lon[0,0], lat[0,0], \n",
    "           marker='*', c='red', transform=ccrs.PlateCarree())\n",
    "ax.scatter(stored_longitude[0,0], stored_latitude[0,0], \n",
    "           marker='*', c='green', transform=ccrs.PlateCarree())\n"
   ]
  },
  {
   "cell_type": "code",
   "execution_count": null,
   "id": "075c00ca-ef4a-43b5-8613-b4b117924f5e",
   "metadata": {},
   "outputs": [],
   "source": [
    "np.isclose(stored_latitude, lat, equal_nan=False, atol=1e-4).all()\n",
    "np.isclose(stored_longitude, lon, equal_nan=False, atol=1e-4).all()"
   ]
  },
  {
   "cell_type": "code",
   "execution_count": null,
   "id": "7efba21a-3ffe-4ef7-83a6-39c439c87455",
   "metadata": {},
   "outputs": [],
   "source": [
    "print(lat[0,0], stored_latitude[0,0])\n",
    "print(lat[0,-1], stored_latitude[0,-1])\n",
    "print(lat[-1,-1], stored_latitude[-1,-1])\n",
    "print(lat[-1,0], stored_latitude[-1,0])\n",
    "\n",
    "print(lon[0,0], stored_longitude[0,0])\n",
    "print(lon[0,-1], stored_longitude[0,-1])\n",
    "print(lon[-1,-1], stored_longitude[-1,-1])\n",
    "print(lon[-1,0], stored_longitude[-1,0])"
   ]
  },
  {
   "cell_type": "code",
   "execution_count": null,
   "id": "6ca263cb-f9f6-47d3-b513-b0b7c8ba551d",
   "metadata": {},
   "outputs": [],
   "source": [
    "grid_cell_width, grid_cell_height = 4000., 4000.\n",
    "#proj = to_cartopy(ims_crs)\n",
    "proj = ccrs.Stereographic(central_latitude=90., \n",
    "                          central_longitude=-80., \n",
    "                          true_scale_latitude=60.)\n",
    "\n",
    "every = 1\n",
    "zoom = 1.  #0.01\n",
    "extent = zoom * np.array([-1*grid_cell_width, grid_cell_width, -1*grid_cell_height, grid_cell_height])\n",
    "\n",
    "fig = plt.figure(figsize=(7,7))\n",
    "ax = fig.add_subplot(projection=proj)\n",
    "ax.set_extent(extent, proj)\n",
    "ax.coastlines()\n",
    "ax.gridlines()\n",
    "\n",
    "# Add Pole\n",
    "ax.scatter([0.0],[90.0], s=200, marker='o', transform=ccrs.PlateCarree(), label=\"Pole\")\n",
    "\n",
    "ax.scatter(stored_longitude[::every,::every], stored_latitude[::every,::every], \n",
    "           marker='P', c='k', s=100, transform=ccrs.PlateCarree())\n",
    "\n",
    "ax.scatter(lon[::every,::every], lat[::every,::every], \n",
    "           marker='+', c='red', transform=ccrs.PlateCarree())\n",
    "\n",
    "ax.legend(loc=\"lower left\")"
   ]
  },
  {
   "cell_type": "code",
   "execution_count": 19,
   "id": "c254408f-c4a0-4721-a135-bf828a44e82a",
   "metadata": {},
   "outputs": [],
   "source": [
    "nrow = 6144\n",
    "ncol = 6144\n",
    "ngrid = nrow * ncol\n",
    "\n",
    "data = np.fromfile(\"../data/test_data/imslatlon4km.6144x6144x2.double\", dtype=\"float64\")\n",
    "new_lat = data[:ngrid].reshape(ncol, nrow)\n",
    "new_lon = data[ngrid:].reshape(ncol, nrow)"
   ]
  },
  {
   "cell_type": "code",
   "execution_count": 25,
   "id": "1c255cb6-e7ed-477a-9e47-59ebf78cf571",
   "metadata": {},
   "outputs": [
    {
     "name": "stdout",
     "output_type": "stream",
     "text": [
      "False\n",
      "False\n",
      "-21.484801247611475 -21.488041017105115\n",
      "145.0 145.0\n"
     ]
    }
   ],
   "source": [
    "print(np.isclose(new_lat, stored_latitude, equal_nan=False, atol=1e-4).all())\n",
    "print(np.isclose(new_lat, lat, equal_nan=False, atol=1e-4).all())\n",
    "print(new_lat[0,0], lat[0,0])\n",
    "print(new_lon[0,0], lon[0,0])"
   ]
  },
  {
   "cell_type": "code",
   "execution_count": null,
   "id": "13b0823d-3877-4bd9-91e3-7f9a8828e374",
   "metadata": {},
   "outputs": [],
   "source": [
    "print(np.isclose(new_lon, stored_longitude, equal_nan=False, atol=1e-4).all())\n",
    "print(np.isclose(new_lon, lon, equal_nan=False, atol=1e-4).all())\n"
   ]
  },
  {
   "cell_type": "markdown",
   "id": "a6ea9c91-ec0d-4790-a35d-6f128084d861",
   "metadata": {},
   "source": [
    "## Compare proj definitions"
   ]
  },
  {
   "cell_type": "code",
   "execution_count": 8,
   "id": "61fda323-4cd7-4bc9-98d4-7aeb99cb78c9",
   "metadata": {},
   "outputs": [
    {
     "data": {
      "text/plain": [
       "<Projected CRS: +proj=stere +ellps=WGS84 +lat_0=90 +lon_0=-80 +lat ...>\n",
       "Name: unknown\n",
       "Axis Info [cartesian]:\n",
       "- E[south]: Easting (metre)\n",
       "- N[south]: Northing (metre)\n",
       "Area of Use:\n",
       "- undefined\n",
       "Coordinate Operation:\n",
       "- name: unknown\n",
       "- method: Polar Stereographic (variant B)\n",
       "Datum: Unknown based on WGS 84 ellipsoid\n",
       "- Ellipsoid: WGS 84\n",
       "- Prime Meridian: Greenwich"
      ]
     },
     "execution_count": 8,
     "metadata": {},
     "output_type": "execute_result"
    }
   ],
   "source": [
    "crs0 = CRS.from_proj4(\"+proj=stere +ellps=WGS84 +lat_0=90 +lon_0=-80 +lat_ts=60\")\n",
    "crs0"
   ]
  },
  {
   "cell_type": "code",
   "execution_count": 9,
   "id": "af47b860-5160-48c4-83e9-c7fa3d57ae0f",
   "metadata": {},
   "outputs": [
    {
     "data": {
      "text/plain": [
       "<Projected CRS: +proj=stere +a=6378137.0 +b=6356752.314245 +lat_0= ...>\n",
       "Name: unknown\n",
       "Axis Info [cartesian]:\n",
       "- E[south]: Easting (metre)\n",
       "- N[south]: Northing (metre)\n",
       "Area of Use:\n",
       "- undefined\n",
       "Coordinate Operation:\n",
       "- name: unknown\n",
       "- method: Polar Stereographic (variant B)\n",
       "Datum: Unknown based on WGS 84 ellipsoid\n",
       "- Ellipsoid: WGS 84\n",
       "- Prime Meridian: Greenwich"
      ]
     },
     "execution_count": 9,
     "metadata": {},
     "output_type": "execute_result"
    }
   ],
   "source": [
    "crs1 = CRS.from_proj4(\"+proj=stere +a=6378137.0 +b=6356752.314245 +lat_0=90 +lon_0=-80 +lat_ts=60\")\n",
    "crs1"
   ]
  },
  {
   "cell_type": "code",
   "execution_count": 10,
   "id": "30bf35be-6ce5-4bf9-b9de-19fe3636aafb",
   "metadata": {},
   "outputs": [
    {
     "data": {
      "text/plain": [
       "True"
      ]
     },
     "execution_count": 10,
     "metadata": {},
     "output_type": "execute_result"
    }
   ],
   "source": [
    "crs0.equals(crs1)"
   ]
  },
  {
   "cell_type": "code",
   "execution_count": 11,
   "id": "c15871ad-6b28-4fe6-b34f-a5630e36cb67",
   "metadata": {},
   "outputs": [],
   "source": [
    "IMStoWGS84_0 = Transformer.from_crs(crs0, 4326, always_xy=True)\n",
    "IMStoWGS84_1 = Transformer.from_crs(crs1, 4326, always_xy=True)"
   ]
  },
  {
   "cell_type": "code",
   "execution_count": 12,
   "id": "1be025f3-ffb5-4ef1-a15b-99ab98a04c55",
   "metadata": {},
   "outputs": [
    {
     "data": {
      "text/plain": [
       "(145.0, -21.493529831716305)"
      ]
     },
     "execution_count": 12,
     "metadata": {},
     "output_type": "execute_result"
    }
   ],
   "source": [
    "IMStoWGS84_0.transform(IMS4kmGrid.grid_origin_x, IMS4kmGrid.grid_origin_y)"
   ]
  },
  {
   "cell_type": "code",
   "execution_count": 13,
   "id": "825eac67-7e72-4d51-bc5b-9e70def48d8e",
   "metadata": {},
   "outputs": [
    {
     "data": {
      "text/plain": [
       "(145.0, -21.493529831716305)"
      ]
     },
     "execution_count": 13,
     "metadata": {},
     "output_type": "execute_result"
    }
   ],
   "source": [
    "IMStoWGS84_1.transform(IMS4kmGrid.grid_origin_x, IMS4kmGrid.grid_origin_y)"
   ]
  },
  {
   "cell_type": "code",
   "execution_count": 15,
   "id": "65a9f283-bbd0-43cf-ab02-2b17cbb25d91",
   "metadata": {},
   "outputs": [
    {
     "data": {
      "text/plain": [
       "(145.0, -21.484801247679794)"
      ]
     },
     "execution_count": 15,
     "metadata": {},
     "output_type": "execute_result"
    }
   ],
   "source": [
    "IMStoWGS84_0.transform(*IMS4kmGrid.xy(0.5,0.5))"
   ]
  },
  {
   "cell_type": "code",
   "execution_count": 16,
   "id": "75f5b3b4-a84a-4132-b754-a486f4c946cb",
   "metadata": {},
   "outputs": [
    {
     "data": {
      "text/plain": [
       "(-80.0, 90.0)"
      ]
     },
     "execution_count": 16,
     "metadata": {},
     "output_type": "execute_result"
    }
   ],
   "source": [
    "IMStoWGS84_0.transform(*IMS4kmGrid.xy(6144/2,6144/2))"
   ]
  },
  {
   "cell_type": "code",
   "execution_count": 18,
   "id": "2d3af8c6-6e6a-423f-b1c0-b375c4f7d0bb",
   "metadata": {},
   "outputs": [
    {
     "data": {
      "text/plain": [
       "3072.5"
      ]
     },
     "execution_count": 18,
     "metadata": {},
     "output_type": "execute_result"
    }
   ],
   "source": [
    "6144/2 + 0.5"
   ]
  },
  {
   "cell_type": "markdown",
   "id": "6b3f78ac-3699-4093-87b1-7f7fe3a51463",
   "metadata": {},
   "source": [
    "## Get distance between new latitude and longitude and derived latitude and longitude"
   ]
  },
  {
   "cell_type": "code",
   "execution_count": null,
   "id": "5fbc0733-9bd8-402e-bdf6-b7c41f2b2732",
   "metadata": {},
   "outputs": [],
   "source": []
  }
 ],
 "metadata": {
  "kernelspec": {
   "display_name": "Python 3 (ipykernel)",
   "language": "python",
   "name": "python3"
  },
  "language_info": {
   "codemirror_mode": {
    "name": "ipython",
    "version": 3
   },
   "file_extension": ".py",
   "mimetype": "text/x-python",
   "name": "python",
   "nbconvert_exporter": "python",
   "pygments_lexer": "ipython3",
   "version": "3.12.2"
  }
 },
 "nbformat": 4,
 "nbformat_minor": 5
}
