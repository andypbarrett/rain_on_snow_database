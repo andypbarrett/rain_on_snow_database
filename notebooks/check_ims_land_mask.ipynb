{
 "cells": [
  {
   "cell_type": "code",
   "execution_count": 1,
   "id": "c7d65b77-0106-4420-964b-49d5530f7d4e",
   "metadata": {},
   "outputs": [
    {
     "ename": "SyntaxError",
     "evalue": "invalid syntax. Perhaps you forgot a comma? (ims_crs.py, line 228)",
     "output_type": "error",
     "traceback": [
      "Traceback \u001b[0;36m(most recent call last)\u001b[0m:\n",
      "\u001b[0m  File \u001b[1;32m~/mambaforge/envs/rain_on_snow_database/lib/python3.12/site-packages/IPython/core/interactiveshell.py:3526\u001b[0m in \u001b[1;35mrun_code\u001b[0m\n    exec(code_obj, self.user_global_ns, self.user_ns)\u001b[0m\n",
      "\u001b[0;36m  Cell \u001b[0;32mIn[1], line 15\u001b[0;36m\n\u001b[0;31m    from ros_database.ims_snow.ims_crs import IMS4kmGrid\u001b[0;36m\n",
      "\u001b[0;36m  File \u001b[0;32m~/src/rain_on_snow_database/ros_database/ims_snow/ims_crs.py:228\u001b[0;36m\u001b[0m\n\u001b[0;31m    IMS1kmGrid = Grid(nrow=24576\u001b[0m\n\u001b[0m                           ^\u001b[0m\n\u001b[0;31mSyntaxError\u001b[0m\u001b[0;31m:\u001b[0m invalid syntax. Perhaps you forgot a comma?\n"
     ]
    }
   ],
   "source": [
    "from pathlib import Path\n",
    "from typing import List\n",
    "\n",
    "import fsspec\n",
    "import xarray as xr\n",
    "import numpy as np\n",
    "\n",
    "import matplotlib.pyplot as plt\n",
    "from matplotlib.colors import ListedColormap, BoundaryNorm\n",
    "import cartopy.crs as ccrs\n",
    "import cartopy.feature as cfeature\n",
    "from pyproj import CRS, Transformer\n",
    "\n",
    "from nsidc_projections.grid import to_cartopy\n",
    "# from ros_database.ims_snow.ims_crs import IMS4kmGrid\n",
    "from notebooks.utils import plot_ims_snow_and_ice, get_extent\n",
    "\n",
    "DATAPATH = Path.home() / \"src\" / \"rain_on_snow_database\" / \"data\" / \"test_data\"\n",
    "\n",
    "fs = fsspec.filesystem('file')"
   ]
  },
  {
   "cell_type": "code",
   "execution_count": null,
   "id": "c55afb88-c29b-48b5-a6da-882833ed5736",
   "metadata": {},
   "outputs": [],
   "source": [
    "test_point = {\n",
    "    \"Norton Sound\": (-163.01706271914878, 64.54757445721512),\n",
    "    \"Cambridge Bay\": (-105.05586791647777, 69.11608384685066),\n",
    "    \"Clyde River\": (-68.59767446082255, 70.47531698648856),\n",
    "    \"Tiksi\": (128.76156219329152, 71.70659836968615),\n",
    "}"
   ]
  },
  {
   "cell_type": "code",
   "execution_count": null,
   "id": "0c83c3bd-4aab-412f-9f03-f2297b40e431",
   "metadata": {},
   "outputs": [],
   "source": [
    "filepath = list(DATAPATH.glob(\"*4km*.nc.gz\"))[0]\n",
    "\n",
    "ds_4km = xr.open_dataset(fs.open(filepath, compression=\"gzip\"), decode_coords=\"all\")\n",
    "ds_4km"
   ]
  },
  {
   "cell_type": "code",
   "execution_count": null,
   "id": "d5f49d0e-89ea-40e3-92f0-b5cc25f52fc5",
   "metadata": {},
   "outputs": [],
   "source": [
    "6356752.314245"
   ]
  },
  {
   "cell_type": "code",
   "execution_count": null,
   "id": "5ca61da5-8d7e-4385-95bb-387991e23dec",
   "metadata": {},
   "outputs": [],
   "source": [
    "filepath = list(DATAPATH.glob(\"*1km*.nc.gz\"))[0]\n",
    "\n",
    "ds_1km = xr.open_dataset(fs.open(filepath, compression=\"gzip\"), decode_coords=\"all\")\n",
    "ds_1km"
   ]
  },
  {
   "cell_type": "code",
   "execution_count": null,
   "id": "7fd29792-7098-4593-b0ad-60ea5d79f06a",
   "metadata": {},
   "outputs": [],
   "source": [
    "plot_ims_snow_and_ice(ds_4km.IMS_Surface_Values.squeeze(), title=\"IMS Snow and Ice Cover 4km\")"
   ]
  },
  {
   "cell_type": "code",
   "execution_count": null,
   "id": "3a5c2fd0-8e4a-4a21-9ecf-1c2b1e8f6ec6",
   "metadata": {},
   "outputs": [],
   "source": [
    "plot_ims_snow_and_ice(ds_1km.IMS_Surface_Values.squeeze(), title=\"IMS Snow and Ice Cover 1km\")"
   ]
  },
  {
   "cell_type": "code",
   "execution_count": null,
   "id": "d437cce0-605b-47f0-b81e-072a17f3fa1a",
   "metadata": {},
   "outputs": [],
   "source": [
    "location = \"Norton Sound\""
   ]
  },
  {
   "cell_type": "code",
   "execution_count": null,
   "id": "0336a5b7-6332-4bf7-99df-ab47ff02c40f",
   "metadata": {},
   "outputs": [],
   "source": [
    "extent = get_extent(test_point[location], ds_4km, fov=50000.)\n",
    "ax = plot_ims_snow_and_ice(ds_4km.IMS_Surface_Values.squeeze(), title=f\"IMS Snow and Ice 4km: {location}\", extent=extent)\n",
    "ax.scatter(*test_point[location], marker='o', color=\"red\", transform=ccrs.PlateCarree())"
   ]
  },
  {
   "cell_type": "code",
   "execution_count": null,
   "id": "a90f8168-e12c-4405-a7e5-5bb63b7f8ff8",
   "metadata": {},
   "outputs": [],
   "source": [
    "extent = get_extent(test_point[location], ds_1km, fov=50000.)\n",
    "ax = plot_ims_snow_and_ice(ds_1km.IMS_Surface_Values.squeeze(), title=f\"IMS Snow and Ice 1km: {location}\", extent=extent)\n",
    "ax.scatter(*test_point[location], marker='o', color=\"red\", transform=ccrs.PlateCarree())"
   ]
  },
  {
   "cell_type": "code",
   "execution_count": null,
   "id": "655d2820-789b-4540-ac8c-711bc35a7eee",
   "metadata": {},
   "outputs": [],
   "source": [
    "xmin, xmax, ymin, ymax = ax.get_extent()\n",
    "print(xmin, xmax, ymin, ymax)"
   ]
  },
  {
   "cell_type": "code",
   "execution_count": null,
   "id": "65aae0cd-70cb-474c-944a-55be25f52e74",
   "metadata": {},
   "outputs": [],
   "source": [
    "xg =  ds_1km.x.sel(x=slice(xmin,xmax)).values\n",
    "yg =  ds_1km.y.sel(y=slice(ymin,ymax)).values"
   ]
  },
  {
   "cell_type": "code",
   "execution_count": null,
   "id": "04d5c345-b07c-4081-b144-6dab778de603",
   "metadata": {},
   "outputs": [],
   "source": [
    "proj = ccrs.Stereographic(central_latitude=90., \n",
    "                              central_longitude=-80., \n",
    "                              true_scale_latitude=60.)\n",
    "coastline = cfeature.GSHHSFeature()\n",
    "\n",
    "fig = plt.figure(figsize=(7,7))\n",
    "ax = fig.add_subplot(projection=proj)\n",
    "ax.set_extent([xmin, xmax, ymin, ymax], proj)\n",
    "ax.add_feature(coastline)\n",
    "\n",
    "a, b = list(zip(*points))\n",
    "#[ax.axvline(xxg) for xxg in xg];\n",
    "#[ax.axhline(yyg) for yyg in yg];\n",
    "ax.scatter(a, b, marker='.')"
   ]
  },
  {
   "cell_type": "code",
   "execution_count": null,
   "id": "cc0c174f-6597-4d1d-9894-37cf9f6ee653",
   "metadata": {},
   "outputs": [],
   "source": [
    "from shapely.geometry import MultiPolygon, MultiPoint, Point"
   ]
  },
  {
   "cell_type": "code",
   "execution_count": null,
   "id": "16b08c66-7c11-4320-943c-e2ec473f91c7",
   "metadata": {},
   "outputs": [],
   "source": [
    "multi_coast = MultiPolygon(coastline.geometries())"
   ]
  },
  {
   "cell_type": "markdown",
   "id": "fa5cda13-04c3-4d38-a04a-cd21a81ae88b",
   "metadata": {},
   "source": [
    "Test for Goluvin"
   ]
  },
  {
   "cell_type": "code",
   "execution_count": null,
   "id": "2733c862-c542-476f-9c7f-5902e2032192",
   "metadata": {},
   "outputs": [],
   "source": [
    "multi_coast.contains(Point(*test_point[location]))"
   ]
  },
  {
   "cell_type": "code",
   "execution_count": null,
   "id": "a8751043-5787-4b37-83aa-4feb941bddab",
   "metadata": {},
   "outputs": [],
   "source": [
    "multi_coast.within(Point(*test_point[location]))"
   ]
  },
  {
   "cell_type": "code",
   "execution_count": null,
   "id": "7e181566-681d-462c-936f-c400bf9267b7",
   "metadata": {},
   "outputs": [],
   "source": [
    "multi_coast.contains_properly(Point(*test_point[location]))"
   ]
  },
  {
   "cell_type": "code",
   "execution_count": null,
   "id": "fd199ead-290a-4590-a778-aaa3d5ce3340",
   "metadata": {},
   "outputs": [],
   "source": [
    "points = [IMS4kmGrid.xy_to_latlon(xxg, yyg) for xxg, yyg in product(xg, yg)]"
   ]
  },
  {
   "cell_type": "code",
   "execution_count": null,
   "id": "9fe8377f-002e-45bc-8966-fe370a996270",
   "metadata": {},
   "outputs": [],
   "source": [
    "%%time\n",
    "from itertools import product\n",
    "is_land = np.array([multi_coast.contains_properly(Point(*point)) for point in points])"
   ]
  },
  {
   "cell_type": "code",
   "execution_count": null,
   "id": "b90457d0-6c55-47a5-b88a-6e25d9a0f8a3",
   "metadata": {},
   "outputs": [],
   "source": [
    "proj = ccrs.Stereographic(central_latitude=90., \n",
    "                              central_longitude=-80., \n",
    "                              true_scale_latitude=60.)\n",
    "coastline = cfeature.GSHHSFeature()\n",
    "\n",
    "fig = plt.figure(figsize=(7,7))\n",
    "ax = fig.add_subplot(projection=proj)\n",
    "ax.set_extent([xmin, xmax, ymin, ymax], proj)\n",
    "ax.add_feature(coastline)\n",
    "\n",
    "a, b = list(zip(*points))\n",
    "#[ax.axvline(xxg) for xxg in xg];\n",
    "#[ax.axhline(yyg) for yyg in yg];\n",
    "ax.scatter(a, b, c=is_land, marker='.', transform=ccrs.PlateCarree())"
   ]
  },
  {
   "cell_type": "code",
   "execution_count": null,
   "id": "adc55fa1-f8f2-4134-8130-e3114cec6342",
   "metadata": {},
   "outputs": [],
   "source": [
    "is_land"
   ]
  },
  {
   "cell_type": "code",
   "execution_count": null,
   "id": "609b4944-3bf9-4eb9-a297-f6d24316e4cc",
   "metadata": {},
   "outputs": [],
   "source": []
  }
 ],
 "metadata": {
  "kernelspec": {
   "display_name": "Python 3 (ipykernel)",
   "language": "python",
   "name": "python3"
  },
  "language_info": {
   "codemirror_mode": {
    "name": "ipython",
    "version": 3
   },
   "file_extension": ".py",
   "mimetype": "text/x-python",
   "name": "python",
   "nbconvert_exporter": "python",
   "pygments_lexer": "ipython3",
   "version": "3.12.3"
  }
 },
 "nbformat": 4,
 "nbformat_minor": 5
}
