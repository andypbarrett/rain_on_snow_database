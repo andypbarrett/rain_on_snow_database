{
 "cells": [
  {
   "cell_type": "code",
   "execution_count": 17,
   "id": "a9c6b7da-bbc9-4186-b05e-be10e6c38eca",
   "metadata": {},
   "outputs": [],
   "source": [
    "from pathlib import Path\n",
    "\n",
    "import fsspec\n",
    "import rioxarray\n",
    "import xarray as xr\n",
    "\n",
    "from pyproj import CRS, Transformer\n",
    "\n",
    "from notebooks.utils import plot_ims_snow_and_ice\n",
    "\n",
    "DATAPATH = Path.home() / \"src\" / \"rain_on_snow_database\" / \"data\" / \"test_data\"\n",
    "\n",
    "fs = fsspec.filesystem('file')\n",
    "\n",
    "wgs84 = CRS.from_epsg(4326)"
   ]
  },
  {
   "cell_type": "code",
   "execution_count": 2,
   "id": "298b29bd-febd-4916-b9d1-a6bdc38c3f2e",
   "metadata": {},
   "outputs": [
    {
     "data": {
      "text/html": [
       "<div><svg style=\"position: absolute; width: 0; height: 0; overflow: hidden\">\n",
       "<defs>\n",
       "<symbol id=\"icon-database\" viewBox=\"0 0 32 32\">\n",
       "<path d=\"M16 0c-8.837 0-16 2.239-16 5v4c0 2.761 7.163 5 16 5s16-2.239 16-5v-4c0-2.761-7.163-5-16-5z\"></path>\n",
       "<path d=\"M16 17c-8.837 0-16-2.239-16-5v6c0 2.761 7.163 5 16 5s16-2.239 16-5v-6c0 2.761-7.163 5-16 5z\"></path>\n",
       "<path d=\"M16 26c-8.837 0-16-2.239-16-5v6c0 2.761 7.163 5 16 5s16-2.239 16-5v-6c0 2.761-7.163 5-16 5z\"></path>\n",
       "</symbol>\n",
       "<symbol id=\"icon-file-text2\" viewBox=\"0 0 32 32\">\n",
       "<path d=\"M28.681 7.159c-0.694-0.947-1.662-2.053-2.724-3.116s-2.169-2.030-3.116-2.724c-1.612-1.182-2.393-1.319-2.841-1.319h-15.5c-1.378 0-2.5 1.121-2.5 2.5v27c0 1.378 1.122 2.5 2.5 2.5h23c1.378 0 2.5-1.122 2.5-2.5v-19.5c0-0.448-0.137-1.23-1.319-2.841zM24.543 5.457c0.959 0.959 1.712 1.825 2.268 2.543h-4.811v-4.811c0.718 0.556 1.584 1.309 2.543 2.268zM28 29.5c0 0.271-0.229 0.5-0.5 0.5h-23c-0.271 0-0.5-0.229-0.5-0.5v-27c0-0.271 0.229-0.5 0.5-0.5 0 0 15.499-0 15.5 0v7c0 0.552 0.448 1 1 1h7v19.5z\"></path>\n",
       "<path d=\"M23 26h-14c-0.552 0-1-0.448-1-1s0.448-1 1-1h14c0.552 0 1 0.448 1 1s-0.448 1-1 1z\"></path>\n",
       "<path d=\"M23 22h-14c-0.552 0-1-0.448-1-1s0.448-1 1-1h14c0.552 0 1 0.448 1 1s-0.448 1-1 1z\"></path>\n",
       "<path d=\"M23 18h-14c-0.552 0-1-0.448-1-1s0.448-1 1-1h14c0.552 0 1 0.448 1 1s-0.448 1-1 1z\"></path>\n",
       "</symbol>\n",
       "</defs>\n",
       "</svg>\n",
       "<style>/* CSS stylesheet for displaying xarray objects in jupyterlab.\n",
       " *\n",
       " */\n",
       "\n",
       ":root {\n",
       "  --xr-font-color0: var(--jp-content-font-color0, rgba(0, 0, 0, 1));\n",
       "  --xr-font-color2: var(--jp-content-font-color2, rgba(0, 0, 0, 0.54));\n",
       "  --xr-font-color3: var(--jp-content-font-color3, rgba(0, 0, 0, 0.38));\n",
       "  --xr-border-color: var(--jp-border-color2, #e0e0e0);\n",
       "  --xr-disabled-color: var(--jp-layout-color3, #bdbdbd);\n",
       "  --xr-background-color: var(--jp-layout-color0, white);\n",
       "  --xr-background-color-row-even: var(--jp-layout-color1, white);\n",
       "  --xr-background-color-row-odd: var(--jp-layout-color2, #eeeeee);\n",
       "}\n",
       "\n",
       "html[theme=dark],\n",
       "body[data-theme=dark],\n",
       "body.vscode-dark {\n",
       "  --xr-font-color0: rgba(255, 255, 255, 1);\n",
       "  --xr-font-color2: rgba(255, 255, 255, 0.54);\n",
       "  --xr-font-color3: rgba(255, 255, 255, 0.38);\n",
       "  --xr-border-color: #1F1F1F;\n",
       "  --xr-disabled-color: #515151;\n",
       "  --xr-background-color: #111111;\n",
       "  --xr-background-color-row-even: #111111;\n",
       "  --xr-background-color-row-odd: #313131;\n",
       "}\n",
       "\n",
       ".xr-wrap {\n",
       "  display: block !important;\n",
       "  min-width: 300px;\n",
       "  max-width: 700px;\n",
       "}\n",
       "\n",
       ".xr-text-repr-fallback {\n",
       "  /* fallback to plain text repr when CSS is not injected (untrusted notebook) */\n",
       "  display: none;\n",
       "}\n",
       "\n",
       ".xr-header {\n",
       "  padding-top: 6px;\n",
       "  padding-bottom: 6px;\n",
       "  margin-bottom: 4px;\n",
       "  border-bottom: solid 1px var(--xr-border-color);\n",
       "}\n",
       "\n",
       ".xr-header > div,\n",
       ".xr-header > ul {\n",
       "  display: inline;\n",
       "  margin-top: 0;\n",
       "  margin-bottom: 0;\n",
       "}\n",
       "\n",
       ".xr-obj-type,\n",
       ".xr-array-name {\n",
       "  margin-left: 2px;\n",
       "  margin-right: 10px;\n",
       "}\n",
       "\n",
       ".xr-obj-type {\n",
       "  color: var(--xr-font-color2);\n",
       "}\n",
       "\n",
       ".xr-sections {\n",
       "  padding-left: 0 !important;\n",
       "  display: grid;\n",
       "  grid-template-columns: 150px auto auto 1fr 20px 20px;\n",
       "}\n",
       "\n",
       ".xr-section-item {\n",
       "  display: contents;\n",
       "}\n",
       "\n",
       ".xr-section-item input {\n",
       "  display: none;\n",
       "}\n",
       "\n",
       ".xr-section-item input + label {\n",
       "  color: var(--xr-disabled-color);\n",
       "}\n",
       "\n",
       ".xr-section-item input:enabled + label {\n",
       "  cursor: pointer;\n",
       "  color: var(--xr-font-color2);\n",
       "}\n",
       "\n",
       ".xr-section-item input:enabled + label:hover {\n",
       "  color: var(--xr-font-color0);\n",
       "}\n",
       "\n",
       ".xr-section-summary {\n",
       "  grid-column: 1;\n",
       "  color: var(--xr-font-color2);\n",
       "  font-weight: 500;\n",
       "}\n",
       "\n",
       ".xr-section-summary > span {\n",
       "  display: inline-block;\n",
       "  padding-left: 0.5em;\n",
       "}\n",
       "\n",
       ".xr-section-summary-in:disabled + label {\n",
       "  color: var(--xr-font-color2);\n",
       "}\n",
       "\n",
       ".xr-section-summary-in + label:before {\n",
       "  display: inline-block;\n",
       "  content: '►';\n",
       "  font-size: 11px;\n",
       "  width: 15px;\n",
       "  text-align: center;\n",
       "}\n",
       "\n",
       ".xr-section-summary-in:disabled + label:before {\n",
       "  color: var(--xr-disabled-color);\n",
       "}\n",
       "\n",
       ".xr-section-summary-in:checked + label:before {\n",
       "  content: '▼';\n",
       "}\n",
       "\n",
       ".xr-section-summary-in:checked + label > span {\n",
       "  display: none;\n",
       "}\n",
       "\n",
       ".xr-section-summary,\n",
       ".xr-section-inline-details {\n",
       "  padding-top: 4px;\n",
       "  padding-bottom: 4px;\n",
       "}\n",
       "\n",
       ".xr-section-inline-details {\n",
       "  grid-column: 2 / -1;\n",
       "}\n",
       "\n",
       ".xr-section-details {\n",
       "  display: none;\n",
       "  grid-column: 1 / -1;\n",
       "  margin-bottom: 5px;\n",
       "}\n",
       "\n",
       ".xr-section-summary-in:checked ~ .xr-section-details {\n",
       "  display: contents;\n",
       "}\n",
       "\n",
       ".xr-array-wrap {\n",
       "  grid-column: 1 / -1;\n",
       "  display: grid;\n",
       "  grid-template-columns: 20px auto;\n",
       "}\n",
       "\n",
       ".xr-array-wrap > label {\n",
       "  grid-column: 1;\n",
       "  vertical-align: top;\n",
       "}\n",
       "\n",
       ".xr-preview {\n",
       "  color: var(--xr-font-color3);\n",
       "}\n",
       "\n",
       ".xr-array-preview,\n",
       ".xr-array-data {\n",
       "  padding: 0 5px !important;\n",
       "  grid-column: 2;\n",
       "}\n",
       "\n",
       ".xr-array-data,\n",
       ".xr-array-in:checked ~ .xr-array-preview {\n",
       "  display: none;\n",
       "}\n",
       "\n",
       ".xr-array-in:checked ~ .xr-array-data,\n",
       ".xr-array-preview {\n",
       "  display: inline-block;\n",
       "}\n",
       "\n",
       ".xr-dim-list {\n",
       "  display: inline-block !important;\n",
       "  list-style: none;\n",
       "  padding: 0 !important;\n",
       "  margin: 0;\n",
       "}\n",
       "\n",
       ".xr-dim-list li {\n",
       "  display: inline-block;\n",
       "  padding: 0;\n",
       "  margin: 0;\n",
       "}\n",
       "\n",
       ".xr-dim-list:before {\n",
       "  content: '(';\n",
       "}\n",
       "\n",
       ".xr-dim-list:after {\n",
       "  content: ')';\n",
       "}\n",
       "\n",
       ".xr-dim-list li:not(:last-child):after {\n",
       "  content: ',';\n",
       "  padding-right: 5px;\n",
       "}\n",
       "\n",
       ".xr-has-index {\n",
       "  font-weight: bold;\n",
       "}\n",
       "\n",
       ".xr-var-list,\n",
       ".xr-var-item {\n",
       "  display: contents;\n",
       "}\n",
       "\n",
       ".xr-var-item > div,\n",
       ".xr-var-item label,\n",
       ".xr-var-item > .xr-var-name span {\n",
       "  background-color: var(--xr-background-color-row-even);\n",
       "  margin-bottom: 0;\n",
       "}\n",
       "\n",
       ".xr-var-item > .xr-var-name:hover span {\n",
       "  padding-right: 5px;\n",
       "}\n",
       "\n",
       ".xr-var-list > li:nth-child(odd) > div,\n",
       ".xr-var-list > li:nth-child(odd) > label,\n",
       ".xr-var-list > li:nth-child(odd) > .xr-var-name span {\n",
       "  background-color: var(--xr-background-color-row-odd);\n",
       "}\n",
       "\n",
       ".xr-var-name {\n",
       "  grid-column: 1;\n",
       "}\n",
       "\n",
       ".xr-var-dims {\n",
       "  grid-column: 2;\n",
       "}\n",
       "\n",
       ".xr-var-dtype {\n",
       "  grid-column: 3;\n",
       "  text-align: right;\n",
       "  color: var(--xr-font-color2);\n",
       "}\n",
       "\n",
       ".xr-var-preview {\n",
       "  grid-column: 4;\n",
       "}\n",
       "\n",
       ".xr-index-preview {\n",
       "  grid-column: 2 / 5;\n",
       "  color: var(--xr-font-color2);\n",
       "}\n",
       "\n",
       ".xr-var-name,\n",
       ".xr-var-dims,\n",
       ".xr-var-dtype,\n",
       ".xr-preview,\n",
       ".xr-attrs dt {\n",
       "  white-space: nowrap;\n",
       "  overflow: hidden;\n",
       "  text-overflow: ellipsis;\n",
       "  padding-right: 10px;\n",
       "}\n",
       "\n",
       ".xr-var-name:hover,\n",
       ".xr-var-dims:hover,\n",
       ".xr-var-dtype:hover,\n",
       ".xr-attrs dt:hover {\n",
       "  overflow: visible;\n",
       "  width: auto;\n",
       "  z-index: 1;\n",
       "}\n",
       "\n",
       ".xr-var-attrs,\n",
       ".xr-var-data,\n",
       ".xr-index-data {\n",
       "  display: none;\n",
       "  background-color: var(--xr-background-color) !important;\n",
       "  padding-bottom: 5px !important;\n",
       "}\n",
       "\n",
       ".xr-var-attrs-in:checked ~ .xr-var-attrs,\n",
       ".xr-var-data-in:checked ~ .xr-var-data,\n",
       ".xr-index-data-in:checked ~ .xr-index-data {\n",
       "  display: block;\n",
       "}\n",
       "\n",
       ".xr-var-data > table {\n",
       "  float: right;\n",
       "}\n",
       "\n",
       ".xr-var-name span,\n",
       ".xr-var-data,\n",
       ".xr-index-name div,\n",
       ".xr-index-data,\n",
       ".xr-attrs {\n",
       "  padding-left: 25px !important;\n",
       "}\n",
       "\n",
       ".xr-attrs,\n",
       ".xr-var-attrs,\n",
       ".xr-var-data,\n",
       ".xr-index-data {\n",
       "  grid-column: 1 / -1;\n",
       "}\n",
       "\n",
       "dl.xr-attrs {\n",
       "  padding: 0;\n",
       "  margin: 0;\n",
       "  display: grid;\n",
       "  grid-template-columns: 125px auto;\n",
       "}\n",
       "\n",
       ".xr-attrs dt,\n",
       ".xr-attrs dd {\n",
       "  padding: 0;\n",
       "  margin: 0;\n",
       "  float: left;\n",
       "  padding-right: 10px;\n",
       "  width: auto;\n",
       "}\n",
       "\n",
       ".xr-attrs dt {\n",
       "  font-weight: normal;\n",
       "  grid-column: 1;\n",
       "}\n",
       "\n",
       ".xr-attrs dt:hover span {\n",
       "  display: inline-block;\n",
       "  background: var(--xr-background-color);\n",
       "  padding-right: 10px;\n",
       "}\n",
       "\n",
       ".xr-attrs dd {\n",
       "  grid-column: 2;\n",
       "  white-space: pre-wrap;\n",
       "  word-break: break-all;\n",
       "}\n",
       "\n",
       ".xr-icon-database,\n",
       ".xr-icon-file-text2,\n",
       ".xr-no-icon {\n",
       "  display: inline-block;\n",
       "  vertical-align: middle;\n",
       "  width: 1em;\n",
       "  height: 1.5em !important;\n",
       "  stroke-width: 0;\n",
       "  stroke: currentColor;\n",
       "  fill: currentColor;\n",
       "}\n",
       "</style><pre class='xr-text-repr-fallback'>&lt;xarray.Dataset&gt; Size: 151MB\n",
       "Dimensions:             (x: 6144, y: 6144, time: 1)\n",
       "Coordinates:\n",
       "  * x                   (x) float32 25kB -1.229e+07 -1.228e+07 ... 1.229e+07\n",
       "  * y                   (y) float32 25kB -1.229e+07 -1.228e+07 ... 1.229e+07\n",
       "  * time                (time) datetime64[ns] 8B 2023-02-01\n",
       "    projection          |S1 1B ...\n",
       "Data variables:\n",
       "    IMS_Surface_Values  (time, y, x) float32 151MB ...\n",
       "Attributes: (12/49)\n",
       "    Conventions:                CF-1.6, ACDD-1.3\n",
       "    title:                      NOAA/NESDIS Interactive Multisensor Snow and ...\n",
       "    summary:                    This file contains a map of snow cover and ic...\n",
       "    keywords:                   EARTH SCIENCE &gt; CRYOSPHERE &gt; SEA ICE &gt; ICE EX...\n",
       "    keywords_vocabulary:        NASA Global Change Master Directory (GCMD) Ke...\n",
       "    ncei_template_version:      NCEI_NetCDF_Grid_Template_v2.0\n",
       "    ...                         ...\n",
       "    metadata_link:              https://nsidc.org/data/G02156\n",
       "    naming_authority:           org.nsidc\n",
       "    references:                 Ramsay, B. H. (1998). The interactive multise...\n",
       "    history:                    01 February 2023 00:33Z: NetCDF file generate...\n",
       "    source:                     Analysts at the United States National Ice Ce...\n",
       "    comment:                    The IMS product has changed versions and reso...</pre><div class='xr-wrap' style='display:none'><div class='xr-header'><div class='xr-obj-type'>xarray.Dataset</div></div><ul class='xr-sections'><li class='xr-section-item'><input id='section-a39c7681-18f7-481a-ac76-9e2442fd3d7f' class='xr-section-summary-in' type='checkbox' disabled ><label for='section-a39c7681-18f7-481a-ac76-9e2442fd3d7f' class='xr-section-summary'  title='Expand/collapse section'>Dimensions:</label><div class='xr-section-inline-details'><ul class='xr-dim-list'><li><span class='xr-has-index'>x</span>: 6144</li><li><span class='xr-has-index'>y</span>: 6144</li><li><span class='xr-has-index'>time</span>: 1</li></ul></div><div class='xr-section-details'></div></li><li class='xr-section-item'><input id='section-9dbbce6c-5c82-4b97-8c53-99935cb25b22' class='xr-section-summary-in' type='checkbox'  checked><label for='section-9dbbce6c-5c82-4b97-8c53-99935cb25b22' class='xr-section-summary' >Coordinates: <span>(4)</span></label><div class='xr-section-inline-details'></div><div class='xr-section-details'><ul class='xr-var-list'><li class='xr-var-item'><div class='xr-var-name'><span class='xr-has-index'>x</span></div><div class='xr-var-dims'>(x)</div><div class='xr-var-dtype'>float32</div><div class='xr-var-preview xr-preview'>-1.229e+07 -1.228e+07 ... 1.229e+07</div><input id='attrs-2a64b3a9-797a-4435-8b36-a2e2a06eef44' class='xr-var-attrs-in' type='checkbox' ><label for='attrs-2a64b3a9-797a-4435-8b36-a2e2a06eef44' title='Show/Hide attributes'><svg class='icon xr-icon-file-text2'><use xlink:href='#icon-file-text2'></use></svg></label><input id='data-45e73702-467d-4afb-85ec-62db715010ef' class='xr-var-data-in' type='checkbox'><label for='data-45e73702-467d-4afb-85ec-62db715010ef' title='Show/Hide data repr'><svg class='icon xr-icon-database'><use xlink:href='#icon-database'></use></svg></label><div class='xr-var-attrs'><dl class='xr-attrs'><dt><span>units :</span></dt><dd>m</dd><dt><span>standard_name :</span></dt><dd>projection_x_coordinate</dd><dt><span>long_name :</span></dt><dd>x coordinate of projection</dd><dt><span>axis :</span></dt><dd>X</dd><dt><span>comment :</span></dt><dd>x values are the centers of the grid cells</dd></dl></div><div class='xr-var-data'><pre>array([-12286000., -12282000., -12278000., ...,  12278000.,  12282000.,\n",
       "        12286000.], dtype=float32)</pre></div></li><li class='xr-var-item'><div class='xr-var-name'><span class='xr-has-index'>y</span></div><div class='xr-var-dims'>(y)</div><div class='xr-var-dtype'>float32</div><div class='xr-var-preview xr-preview'>-1.229e+07 -1.228e+07 ... 1.229e+07</div><input id='attrs-ddc9d03f-1b6e-4a84-be37-1f84c7756b81' class='xr-var-attrs-in' type='checkbox' ><label for='attrs-ddc9d03f-1b6e-4a84-be37-1f84c7756b81' title='Show/Hide attributes'><svg class='icon xr-icon-file-text2'><use xlink:href='#icon-file-text2'></use></svg></label><input id='data-1b41479f-4326-4b13-8e36-9f575778f1f8' class='xr-var-data-in' type='checkbox'><label for='data-1b41479f-4326-4b13-8e36-9f575778f1f8' title='Show/Hide data repr'><svg class='icon xr-icon-database'><use xlink:href='#icon-database'></use></svg></label><div class='xr-var-attrs'><dl class='xr-attrs'><dt><span>units :</span></dt><dd>m</dd><dt><span>standard_name :</span></dt><dd>projection_y_coordinate</dd><dt><span>long_name :</span></dt><dd>y coordinate of projection</dd><dt><span>axis :</span></dt><dd>Y</dd><dt><span>comment :</span></dt><dd>y values are the centers of the grid cells</dd></dl></div><div class='xr-var-data'><pre>array([-12286000., -12282000., -12278000., ...,  12278000.,  12282000.,\n",
       "        12286000.], dtype=float32)</pre></div></li><li class='xr-var-item'><div class='xr-var-name'><span class='xr-has-index'>time</span></div><div class='xr-var-dims'>(time)</div><div class='xr-var-dtype'>datetime64[ns]</div><div class='xr-var-preview xr-preview'>2023-02-01</div><input id='attrs-754ed112-7085-4b48-84a8-82d653e39012' class='xr-var-attrs-in' type='checkbox' ><label for='attrs-754ed112-7085-4b48-84a8-82d653e39012' title='Show/Hide attributes'><svg class='icon xr-icon-file-text2'><use xlink:href='#icon-file-text2'></use></svg></label><input id='data-a8da1e44-6a7e-48b0-85b0-08f6c79537a8' class='xr-var-data-in' type='checkbox'><label for='data-a8da1e44-6a7e-48b0-85b0-08f6c79537a8' title='Show/Hide data repr'><svg class='icon xr-icon-database'><use xlink:href='#icon-database'></use></svg></label><div class='xr-var-attrs'><dl class='xr-attrs'><dt><span>CoordinateAxisType :</span></dt><dd>Time</dd><dt><span>axis :</span></dt><dd>T</dd><dt><span>comment :</span></dt><dd>This is the 00Z reference time. Note that products are nowcasted to be valid specifically at the time given here.</dd><dt><span>ioos_category :</span></dt><dd>Time</dd><dt><span>long_name :</span></dt><dd>Centered Time</dd><dt><span>standard_name :</span></dt><dd>time</dd><dt><span>time_origin :</span></dt><dd>01-JAN-1970 00:00:00</dd></dl></div><div class='xr-var-data'><pre>array([&#x27;2023-02-01T00:00:00.000000000&#x27;], dtype=&#x27;datetime64[ns]&#x27;)</pre></div></li><li class='xr-var-item'><div class='xr-var-name'><span>projection</span></div><div class='xr-var-dims'>()</div><div class='xr-var-dtype'>|S1</div><div class='xr-var-preview xr-preview'>...</div><input id='attrs-a187dbb4-3362-40d4-9bb5-7b8ebe8afe46' class='xr-var-attrs-in' type='checkbox' ><label for='attrs-a187dbb4-3362-40d4-9bb5-7b8ebe8afe46' title='Show/Hide attributes'><svg class='icon xr-icon-file-text2'><use xlink:href='#icon-file-text2'></use></svg></label><input id='data-c1960adb-372c-43d7-a489-9e2bba9ff7a5' class='xr-var-data-in' type='checkbox'><label for='data-c1960adb-372c-43d7-a489-9e2bba9ff7a5' title='Show/Hide data repr'><svg class='icon xr-icon-database'><use xlink:href='#icon-database'></use></svg></label><div class='xr-var-attrs'><dl class='xr-attrs'><dt><span>grid_mapping_name :</span></dt><dd>polar_stereographic</dd><dt><span>latitude_of_projection_origin :</span></dt><dd>90.0</dd><dt><span>straight_vertical_longitude_from_pole :</span></dt><dd>-80.0</dd><dt><span>standard_parallel :</span></dt><dd>60.0</dd><dt><span>false_easting :</span></dt><dd>0.0</dd><dt><span>false_northing :</span></dt><dd>0.0</dd><dt><span>semi_major_axis :</span></dt><dd>6378137.0</dd><dt><span>semi_minor_axis :</span></dt><dd>6356257.0</dd><dt><span>units :</span></dt><dd>m</dd><dt><span>proj4 :</span></dt><dd>+proj=stere +lat_0=90 +lat_ts=60 +lon_0=-80 +k=1 +x_0=0 +y_0=0 +a=6378137 +b=6356257 +units=m +no_defs</dd><dt><span>spatial_ref :</span></dt><dd>PROJCS[&quot;unknown&quot;,GEOGCS[&quot;unknown&quot;,DATUM[&quot;unknown&quot;,SPHEROID[&quot;unknown&quot;,6378137,291.505347349177]],PRIMEM[&quot;Greenwich&quot;,0,AUTHORITY[&quot;EPSG&quot;,&quot;8901&quot;]],UNIT[&quot;degree&quot;,0.0174532925199433,AUTHORITY[&quot;EPSG&quot;,&quot;9122&quot;]]],PROJECTION[&quot;Polar_Stereographic&quot;],PARAMETER[&quot;latitude_of_origin&quot;,60],PARAMETER[&quot;central_meridian&quot;,-80],PARAMETER[&quot;false_easting&quot;,0],PARAMETER[&quot;false_northing&quot;,0],UNIT[&quot;metre&quot;,1,AUTHORITY[&quot;EPSG&quot;,&quot;9001&quot;]],AXIS[&quot;Easting&quot;,SOUTH],AXIS[&quot;Northing&quot;,SOUTH]]</dd></dl></div><div class='xr-var-data'><pre>[1 values with dtype=|S1]</pre></div></li></ul></div></li><li class='xr-section-item'><input id='section-7771651e-bece-462e-bda8-dcedbd12c24b' class='xr-section-summary-in' type='checkbox'  checked><label for='section-7771651e-bece-462e-bda8-dcedbd12c24b' class='xr-section-summary' >Data variables: <span>(1)</span></label><div class='xr-section-inline-details'></div><div class='xr-section-details'><ul class='xr-var-list'><li class='xr-var-item'><div class='xr-var-name'><span>IMS_Surface_Values</span></div><div class='xr-var-dims'>(time, y, x)</div><div class='xr-var-dtype'>float32</div><div class='xr-var-preview xr-preview'>...</div><input id='attrs-4fb0dd28-4eb1-4315-885b-cc27d0606f13' class='xr-var-attrs-in' type='checkbox' ><label for='attrs-4fb0dd28-4eb1-4315-885b-cc27d0606f13' title='Show/Hide attributes'><svg class='icon xr-icon-file-text2'><use xlink:href='#icon-file-text2'></use></svg></label><input id='data-2ed06e10-c7f4-407e-baad-5f2f49e5ca1f' class='xr-var-data-in' type='checkbox'><label for='data-2ed06e10-c7f4-407e-baad-5f2f49e5ca1f' title='Show/Hide data repr'><svg class='icon xr-icon-database'><use xlink:href='#icon-database'></use></svg></label><div class='xr-var-attrs'><dl class='xr-attrs'><dt><span>short_name :</span></dt><dd>IMS Surface Values</dd><dt><span>standard_name :</span></dt><dd>area_type</dd><dt><span>long_name :</span></dt><dd>IMS maps of open water, land, sea/lake ice, and snow cover for the Northern Hemisphere</dd><dt><span>comment :</span></dt><dd>0: Outside Coverage Area, 1: Open Water, 2: Land Without Snow, 3: Sea Ice or Lake Ice, 4: Snow Covered Land</dd><dt><span>flag_values :</span></dt><dd>[0 1 2 3 4]</dd><dt><span>flag_meanings :</span></dt><dd>outside_coverage_area open_water snow_free_land lake_ice_or_sea_ice ice_and_snow_on_land</dd></dl></div><div class='xr-var-data'><pre>[37748736 values with dtype=float32]</pre></div></li></ul></div></li><li class='xr-section-item'><input id='section-088d6a1f-8ff1-4372-9c5a-50540f490a9f' class='xr-section-summary-in' type='checkbox'  ><label for='section-088d6a1f-8ff1-4372-9c5a-50540f490a9f' class='xr-section-summary' >Indexes: <span>(3)</span></label><div class='xr-section-inline-details'></div><div class='xr-section-details'><ul class='xr-var-list'><li class='xr-var-item'><div class='xr-index-name'><div>x</div></div><div class='xr-index-preview'>PandasIndex</div><div></div><input id='index-6745e534-fb1f-4d91-846d-81d0e4ad741c' class='xr-index-data-in' type='checkbox'/><label for='index-6745e534-fb1f-4d91-846d-81d0e4ad741c' title='Show/Hide index repr'><svg class='icon xr-icon-database'><use xlink:href='#icon-database'></use></svg></label><div class='xr-index-data'><pre>PandasIndex(Index([-12286000.0, -12282000.0, -12278000.0, -12274000.0, -12270000.0,\n",
       "       -12266000.0, -12262000.0, -12258000.0, -12254000.0, -12250000.0,\n",
       "       ...\n",
       "        12250000.0,  12254000.0,  12258000.0,  12262000.0,  12266000.0,\n",
       "        12270000.0,  12274000.0,  12278000.0,  12282000.0,  12286000.0],\n",
       "      dtype=&#x27;float32&#x27;, name=&#x27;x&#x27;, length=6144))</pre></div></li><li class='xr-var-item'><div class='xr-index-name'><div>y</div></div><div class='xr-index-preview'>PandasIndex</div><div></div><input id='index-5d1b6955-dc4e-461b-b571-3a3574ecc71b' class='xr-index-data-in' type='checkbox'/><label for='index-5d1b6955-dc4e-461b-b571-3a3574ecc71b' title='Show/Hide index repr'><svg class='icon xr-icon-database'><use xlink:href='#icon-database'></use></svg></label><div class='xr-index-data'><pre>PandasIndex(Index([-12286000.0, -12282000.0, -12278000.0, -12274000.0, -12270000.0,\n",
       "       -12266000.0, -12262000.0, -12258000.0, -12254000.0, -12250000.0,\n",
       "       ...\n",
       "        12250000.0,  12254000.0,  12258000.0,  12262000.0,  12266000.0,\n",
       "        12270000.0,  12274000.0,  12278000.0,  12282000.0,  12286000.0],\n",
       "      dtype=&#x27;float32&#x27;, name=&#x27;y&#x27;, length=6144))</pre></div></li><li class='xr-var-item'><div class='xr-index-name'><div>time</div></div><div class='xr-index-preview'>PandasIndex</div><div></div><input id='index-0b1ab9af-74cd-41da-afa9-297aefb21e72' class='xr-index-data-in' type='checkbox'/><label for='index-0b1ab9af-74cd-41da-afa9-297aefb21e72' title='Show/Hide index repr'><svg class='icon xr-icon-database'><use xlink:href='#icon-database'></use></svg></label><div class='xr-index-data'><pre>PandasIndex(DatetimeIndex([&#x27;2023-02-01&#x27;], dtype=&#x27;datetime64[ns]&#x27;, name=&#x27;time&#x27;, freq=None))</pre></div></li></ul></div></li><li class='xr-section-item'><input id='section-b98e2bb9-3037-4204-b446-5c9dcf8bd41e' class='xr-section-summary-in' type='checkbox'  ><label for='section-b98e2bb9-3037-4204-b446-5c9dcf8bd41e' class='xr-section-summary' >Attributes: <span>(49)</span></label><div class='xr-section-inline-details'></div><div class='xr-section-details'><dl class='xr-attrs'><dt><span>Conventions :</span></dt><dd>CF-1.6, ACDD-1.3</dd><dt><span>title :</span></dt><dd>NOAA/NESDIS Interactive Multisensor Snow and Ice Mapping System (IMS)</dd><dt><span>summary :</span></dt><dd>This file contains a map of snow cover and ice cover for the Northern Hemisphere produced by the Interactive Multisensor Snow and Ice Mapping System (IMS). The map is nowcasted to be valid at the moment specified by the time variable. The input data used to generate the map originates between the time_coverage_start and time_coverage_end global attributes. Analysts at the United States National Ice Center (USNIC) use a variety of geostationary and polar orbiting satellite imagery, derived products, in situ, and other data sources to interactively create the map. The system has produced daily analyses from February 1997 to Dec 2014, and twice daily analyses since.</dd><dt><span>keywords :</span></dt><dd>EARTH SCIENCE &gt; CRYOSPHERE &gt; SEA ICE &gt; ICE EXTENT, EARTH SCIENCE &gt; CRYOSPHERE &gt; SNOW/ICE &gt; SNOW COVER, GEOGRAPHIC REGION &gt; ARCTIC, GEOGRAPHIC REGION &gt; POLAR, GEOGRAPHIC REGION &gt; NORTHERN HEMISPHERE</dd><dt><span>keywords_vocabulary :</span></dt><dd>NASA Global Change Master Directory (GCMD) Keywords, Version 9.0</dd><dt><span>ncei_template_version :</span></dt><dd>NCEI_NetCDF_Grid_Template_v2.0</dd><dt><span>creator_name :</span></dt><dd>U.S. National Ice Center (USNIC)</dd><dt><span>creator_email :</span></dt><dd>nic.ims.analysts@noaa.gov</dd><dt><span>creator_url :</span></dt><dd>https://usicecenter.gov/</dd><dt><span>institution :</span></dt><dd>U.S. National Ice Center (USNIC)</dd><dt><span>creator_type :</span></dt><dd>Institution</dd><dt><span>creator_institution :</span></dt><dd>U.S. National Ice Center (USNIC)</dd><dt><span>date_created :</span></dt><dd>2023-02-01T00:33:14Z</dd><dt><span>geospatial_lat_max :</span></dt><dd>90.0</dd><dt><span>geospatial_lat_min :</span></dt><dd>0.0</dd><dt><span>geospatial_lat_resolution :</span></dt><dd>4 km</dd><dt><span>geospatial_lat_units :</span></dt><dd>degrees_north</dd><dt><span>geospatial_lon_max :</span></dt><dd>180.0</dd><dt><span>geospatial_lon_min :</span></dt><dd>-180.0</dd><dt><span>geospatial_lon_resolution :</span></dt><dd>4 km</dd><dt><span>geospatial_lon_units :</span></dt><dd>degrees_east</dd><dt><span>time_coverage_start :</span></dt><dd>2023-01-31T00:00:00Z</dd><dt><span>time_coverage_end :</span></dt><dd>2023-01-31T23:59:59Z</dd><dt><span>time_coverage_resolution :</span></dt><dd>P1D</dd><dt><span>time_coverage_duration :</span></dt><dd>P1D</dd><dt><span>id :</span></dt><dd>G02156</dd><dt><span>license :</span></dt><dd>These data may be redistributed and used without restriction.</dd><dt><span>acknowledgment :</span></dt><dd>Produced at USNIC with support from NOAA NESDIS STAR.</dd><dt><span>processing_level :</span></dt><dd>NOAA Level 4</dd><dt><span>project :</span></dt><dd>USNIC Snow and Ice Products</dd><dt><span>standard_name_vocabulary :</span></dt><dd>CF Standard Name Table (Version 72, 10 March 2020)</dd><dt><span>cdm_data_type :</span></dt><dd>Grid</dd><dt><span>contributor_name :</span></dt><dd>U.S. National Ice Center, NOAA at NSIDC, NOAA PolarWatch, NOAA MDL, NOAA STAR</dd><dt><span>contributor_role :</span></dt><dd>Producer, Publisher, Advisor, Software Developer, Originator</dd><dt><span>platform :</span></dt><dd>Earth Observation Satellites, In Situ Land-based Platforms, In Situ Ocean-based Platforms, Ground Stations, Maps/Charts/Photographs, Models/Analyses</dd><dt><span>platform_vocabulary :</span></dt><dd>NASA Global Change Master Directory (GCMD) Keywords, Version 9.0</dd><dt><span>instrument :</span></dt><dd>See https://nsidc.org/data/g02156 for a list of instruments</dd><dt><span>product_version :</span></dt><dd>Version 3</dd><dt><span>publisher_email :</span></dt><dd>nsidc@nsidc.org</dd><dt><span>publisher_name :</span></dt><dd>National Snow and Ice Data Center</dd><dt><span>publisher_url :</span></dt><dd>https://nsidc.org/</dd><dt><span>publisher_institution :</span></dt><dd>National Snow and Ice Data Center</dd><dt><span>publisher_type :</span></dt><dd>Institution</dd><dt><span>metadata_link :</span></dt><dd>https://nsidc.org/data/G02156</dd><dt><span>naming_authority :</span></dt><dd>org.nsidc</dd><dt><span>references :</span></dt><dd>Ramsay, B. H. (1998). The interactive multisensor snow and ice mapping system. Hydrological Processes, 12(10-11), 1537-1546.; Helfrich, S. R., McNamara, D., Ramsay, B. H., Baldwin, T., &amp; Kasheta, T. (2007). Enhancements to, and forthcoming developments in the Interactive Multisensor Snow and Ice Mapping System (IMS). Hydrological Processes: An International Journal, 21(12), 1576-1586. doi: https://doi.org/10.1002/hyp.6720.; Helfrich, S. R., M. Li, C. Kongoli, L. Nagdimunov, and E. Rodriguez. 2019. Interactive Multisensor Snow and Ice Mapping System Version 3 (IMS V3) - Algorithm Theoretical Basis Document Version 2.5. NOAA NESDIS Center for Satellite Applications and Research (STAR). 74 pp.;  U.S. National Ice Center. (2008, updated daily). IMS Daily Northern Hemisphere Snow and Ice Analysis at 1 km, 4 km, and 24 km Resolutions, Version 1. Boulder, Colorado USA. NSIDC: National Snow and Ice Data Center. doi: https://doi.org/10.7265/N52R3PMC.</dd><dt><span>history :</span></dt><dd>01 February 2023 00:33Z: NetCDF file generated from file NIC.IMS_v3_202303200_4km.asc</dd><dt><span>source :</span></dt><dd>Analysts at the United States National Ice Center (USNIC) interactively create this product using a variety of data from many sources including in-situ, remote sensing, and modeled data sources. A description of the IMS system is available at: https://nsidc.org/data/g02156</dd><dt><span>comment :</span></dt><dd>The IMS product has changed versions and resolutions over time. As of date_created, the product is available in three resolutions: 1 km, 4 km, and 24 km. Version 1 had a 24 km resolution from 04 Feb 1997 - 22 Feb 2004. Version 2 added a 4 km resolution to the product on 23 Feb 2004. Finally, Version 3 added a 1 km product on 02 Dec 2014. IMS products are also available through the creator_url and the publisher_url in additional formats such as ASCII, GeoTIFF, and GRIB2. Though the IMS is housed at the USNIC and originated with NOAA Center for Satellite Applications and Research (STAR), a number of additional organizations including NOAA&#x27;s Ocean Prediction Center, Office of Satellite and Product Operations, Meteorological Development Laboratory, and NOAA@NSIDC contribute to IMS&#x27; current development, support, production, and archival. For more information, refer to https://nsidc.org/data/g02156. Note that the latitude and longitude for the NetCDF files are in separate NetCDF files also available from https://nsidc.org/data/g02156.</dd></dl></div></li></ul></div></div>"
      ],
      "text/plain": [
       "<xarray.Dataset> Size: 151MB\n",
       "Dimensions:             (x: 6144, y: 6144, time: 1)\n",
       "Coordinates:\n",
       "  * x                   (x) float32 25kB -1.229e+07 -1.228e+07 ... 1.229e+07\n",
       "  * y                   (y) float32 25kB -1.229e+07 -1.228e+07 ... 1.229e+07\n",
       "  * time                (time) datetime64[ns] 8B 2023-02-01\n",
       "    projection          |S1 1B ...\n",
       "Data variables:\n",
       "    IMS_Surface_Values  (time, y, x) float32 151MB ...\n",
       "Attributes: (12/49)\n",
       "    Conventions:                CF-1.6, ACDD-1.3\n",
       "    title:                      NOAA/NESDIS Interactive Multisensor Snow and ...\n",
       "    summary:                    This file contains a map of snow cover and ic...\n",
       "    keywords:                   EARTH SCIENCE > CRYOSPHERE > SEA ICE > ICE EX...\n",
       "    keywords_vocabulary:        NASA Global Change Master Directory (GCMD) Ke...\n",
       "    ncei_template_version:      NCEI_NetCDF_Grid_Template_v2.0\n",
       "    ...                         ...\n",
       "    metadata_link:              https://nsidc.org/data/G02156\n",
       "    naming_authority:           org.nsidc\n",
       "    references:                 Ramsay, B. H. (1998). The interactive multise...\n",
       "    history:                    01 February 2023 00:33Z: NetCDF file generate...\n",
       "    source:                     Analysts at the United States National Ice Ce...\n",
       "    comment:                    The IMS product has changed versions and reso..."
      ]
     },
     "execution_count": 2,
     "metadata": {},
     "output_type": "execute_result"
    }
   ],
   "source": [
    "filepath = DATAPATH / \"ims2023032_4km_v1.3.nc.gz\"\n",
    "\n",
    "ds_4km = xr.open_dataset(fs.open(filepath, compression=\"gzip\"), decode_coords=\"all\")\n",
    "ds_4km"
   ]
  },
  {
   "cell_type": "markdown",
   "id": "8e7ebc14-5c41-4f9b-a768-80ba12cae5ba",
   "metadata": {},
   "source": [
    "The plot function overrides the dataset CRS because this is incorrectly defined"
   ]
  },
  {
   "cell_type": "code",
   "execution_count": 3,
   "id": "f6e9f0eb-e79e-4074-b329-6caa993365c2",
   "metadata": {},
   "outputs": [
    {
     "data": {
      "text/plain": [
       "<GeoAxes: title={'center': 'time = 2023-02-01, projection = 0'}, xlabel='x coordinate of projection\\n[metre]', ylabel='y coordinate of projection\\n[metre]'>"
      ]
     },
     "execution_count": 3,
     "metadata": {},
     "output_type": "execute_result"
    },
    {
     "data": {
      "image/png": "[encoded data removed]",
      "text/plain": [
       "<Figure size 640x480 with 2 Axes>"
      ]
     },
     "metadata": {},
     "output_type": "display_data"
    }
   ],
   "source": [
    "plot_ims_snow_and_ice(ds_4km.IMS_Surface_Values.squeeze())"
   ]
  },
  {
   "cell_type": "markdown",
   "id": "573dea1a-1b1c-4aa0-8cb0-476b091fe977",
   "metadata": {},
   "source": [
    "The user guide states that the 4 km and 1 km data are on a WGS84 ellipsoid.  However, the `semi_minor_axis` in the `projection` variable is not for WGS84."
   ]
  },
  {
   "cell_type": "code",
   "execution_count": 4,
   "id": "ee8e5909-bf08-4300-ac98-6edf24fa4fef",
   "metadata": {},
   "outputs": [
    {
     "data": {
      "text/plain": [
       "{'grid_mapping_name': 'polar_stereographic',\n",
       " 'latitude_of_projection_origin': 90.0,\n",
       " 'straight_vertical_longitude_from_pole': -80.0,\n",
       " 'standard_parallel': 60.0,\n",
       " 'false_easting': 0.0,\n",
       " 'false_northing': 0.0,\n",
       " 'semi_major_axis': 6378137.0,\n",
       " 'semi_minor_axis': 6356257.0,\n",
       " 'units': 'm',\n",
       " 'proj4': '+proj=stere +lat_0=90 +lat_ts=60 +lon_0=-80 +k=1 +x_0=0 +y_0=0 +a=6378137 +b=6356257 +units=m +no_defs',\n",
       " 'spatial_ref': 'PROJCS[\"unknown\",GEOGCS[\"unknown\",DATUM[\"unknown\",SPHEROID[\"unknown\",6378137,291.505347349177]],PRIMEM[\"Greenwich\",0,AUTHORITY[\"EPSG\",\"8901\"]],UNIT[\"degree\",0.0174532925199433,AUTHORITY[\"EPSG\",\"9122\"]]],PROJECTION[\"Polar_Stereographic\"],PARAMETER[\"latitude_of_origin\",60],PARAMETER[\"central_meridian\",-80],PARAMETER[\"false_easting\",0],PARAMETER[\"false_northing\",0],UNIT[\"metre\",1,AUTHORITY[\"EPSG\",\"9001\"]],AXIS[\"Easting\",SOUTH],AXIS[\"Northing\",SOUTH]]'}"
      ]
     },
     "execution_count": 4,
     "metadata": {},
     "output_type": "execute_result"
    }
   ],
   "source": [
    "ds_4km.projection.attrs"
   ]
  },
  {
   "cell_type": "code",
   "execution_count": 5,
   "id": "8d9b6b82-2fd0-43d3-9909-72ebb6f9a3ee",
   "metadata": {},
   "outputs": [
    {
     "name": "stdout",
     "output_type": "stream",
     "text": [
      "6378137.0\n",
      "6356752.314245179\n"
     ]
    }
   ],
   "source": [
    "print(wgs84.ellipsoid.semi_major_metre)\n",
    "print(wgs84.ellipsoid.semi_minor_metre)"
   ]
  },
  {
   "cell_type": "code",
   "execution_count": 6,
   "id": "6d999820-ed5f-4bb3-bd3e-9a3a00397d90",
   "metadata": {},
   "outputs": [
    {
     "data": {
      "text/plain": [
       "True"
      ]
     },
     "execution_count": 6,
     "metadata": {},
     "output_type": "execute_result"
    }
   ],
   "source": [
    "ds_4km.projection.attrs[\"semi_major_axis\"] == wgs84.ellipsoid.semi_major_metre"
   ]
  },
  {
   "cell_type": "code",
   "execution_count": 7,
   "id": "229a482c-a0cb-4ac7-b4b3-806fc739eb17",
   "metadata": {},
   "outputs": [
    {
     "data": {
      "text/plain": [
       "False"
      ]
     },
     "execution_count": 7,
     "metadata": {},
     "output_type": "execute_result"
    }
   ],
   "source": [
    "ds_4km.projection.attrs[\"semi_minor_axis\"] == wgs84.ellipsoid.semi_minor_metre"
   ]
  },
  {
   "cell_type": "markdown",
   "id": "f56c22cf-14cd-4b86-b773-5232439e0d4f",
   "metadata": {},
   "source": [
    "## Compare projected coordinates\n",
    "\n",
    "I compare the grid coordinates in the data file with grid coordinates calculated from grid parameters in `Ims4km.gpd`"
   ]
  },
  {
   "cell_type": "code",
   "execution_count": 8,
   "id": "86ba24d8-ed1c-45cf-a900-9f31b559dafd",
   "metadata": {},
   "outputs": [],
   "source": [
    "from ros_database.ims_snow.ims_crs import IMS4kmGrid"
   ]
  },
  {
   "cell_type": "code",
   "execution_count": 9,
   "id": "d6e30d7a-e0af-43f5-b033-d299f50c9b87",
   "metadata": {},
   "outputs": [],
   "source": [
    "x, y = IMS4kmGrid.xy_coords()"
   ]
  },
  {
   "cell_type": "code",
   "execution_count": 10,
   "id": "ee2b2357-de47-4ee9-82cc-9f4cf5a4ad6d",
   "metadata": {},
   "outputs": [],
   "source": [
    "assert (x == ds_4km.x).all()"
   ]
  },
  {
   "cell_type": "code",
   "execution_count": 11,
   "id": "f2240d4d-d329-4bc8-b145-5b5622ccbef7",
   "metadata": {},
   "outputs": [],
   "source": [
    "assert (y == ds_4km.y).all()"
   ]
  },
  {
   "cell_type": "markdown",
   "id": "9e24cd11-d62d-4221-ba01-0d258e55e16a",
   "metadata": {},
   "source": [
    "So the `x` and `y` coordinates are the same, and the gpd file grid parameters are correct."
   ]
  },
  {
   "cell_type": "code",
   "execution_count": 24,
   "id": "e597d20c-a491-4852-8dba-de597112dca6",
   "metadata": {},
   "outputs": [],
   "source": [
    "FileCRS = CRS.from_wkt(ds_4km.rio.crs.to_wkt())\n",
    "transformer = Transformer.from_crs(FileCRS, wgs84, always_xy=True)"
   ]
  },
  {
   "cell_type": "code",
   "execution_count": 28,
   "id": "3cab69f5-85b9-4506-b81d-c955ec45a19d",
   "metadata": {},
   "outputs": [
    {
     "data": {
      "text/plain": [
       "[(-125.00000000000001, -21.500657784407288),\n",
       " (145.0, -21.500657784407288),\n",
       " (-35.0, -21.500657784407288),\n",
       " (55.0, -21.500657784407288)]"
      ]
     },
     "execution_count": 28,
     "metadata": {},
     "output_type": "execute_result"
    }
   ],
   "source": [
    "from itertools import product\n",
    "xmin, ymin, xmax, ymax = ds_4km.rio.bounds()\n",
    "corners = [(x, y) for x, y in product([xmin, xmax], [ymin, ymax])]\n",
    "[transformer.transform(x, y) for x, y in corners] "
   ]
  },
  {
   "cell_type": "code",
   "execution_count": 29,
   "id": "93df6936-6ff2-4b7e-908a-4afe7b108d12",
   "metadata": {},
   "outputs": [
    {
     "data": {
      "text/plain": [
       "[(-125.00000000000001, -21.500657784407288),\n",
       " (145.0, -21.500657784407288),\n",
       " (-35.0, -21.500657784407288),\n",
       " (55.0, -21.500657784407288)]"
      ]
     },
     "execution_count": 29,
     "metadata": {},
     "output_type": "execute_result"
    }
   ],
   "source": [
    "xmin, ymin, xmax, ymax = IMS4kmGrid.bounds()\n",
    "corners = [(x, y) for x, y in product([xmin, xmax], [ymin, ymax])]\n",
    "[transformer.transform(x, y) for x, y in corners]"
   ]
  },
  {
   "cell_type": "code",
   "execution_count": null,
   "id": "131d1e8c-fba4-415c-b6cf-8cde4ee2c880",
   "metadata": {},
   "outputs": [],
   "source": []
  }
 ],
 "metadata": {
  "kernelspec": {
   "display_name": "Python 3 (ipykernel)",
   "language": "python",
   "name": "python3"
  },
  "language_info": {
   "codemirror_mode": {
    "name": "ipython",
    "version": 3
   },
   "file_extension": ".py",
   "mimetype": "text/x-python",
   "name": "python",
   "nbconvert_exporter": "python",
   "pygments_lexer": "ipython3",
   "version": "3.12.2"
  }
 },
 "nbformat": 4,
 "nbformat_minor": 5
}
